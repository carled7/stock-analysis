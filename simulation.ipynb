{
 "cells": [
  {
   "cell_type": "code",
   "execution_count": 6,
   "metadata": {},
   "outputs": [],
   "source": [
    "from matplotlib import pyplot as plt\n",
    "\n",
    "import pandas as pd\n",
    "import numpy as np\n",
    "import seaborn as sns\n",
    "\n",
    "import csv\n",
    "import copy\n",
    "import datetime\n",
    "import math"
   ]
  },
  {
   "cell_type": "code",
   "execution_count": 7,
   "metadata": {},
   "outputs": [],
   "source": [
    "def str_to_datetime(timestamp):\n",
    "  date_parts = timestamp.split('-')\n",
    "  year, month, day = int(date_parts[0]), int(date_parts[1]), int(date_parts[2])\n",
    "  return datetime.datetime(year=year, month=month, day=day)"
   ]
  },
  {
   "cell_type": "code",
   "execution_count": 8,
   "metadata": {},
   "outputs": [],
   "source": [
    "def write_rows_on_csv(path, data):\n",
    "    with open(path, \"a\", newline=\"\") as file:\n",
    "        writer = csv.writer(file)\n",
    "\n",
    "        # Write new rows to the CSV file\n",
    "        new_rows = data\n",
    "        writer.writerows(new_rows)"
   ]
  },
  {
   "cell_type": "code",
   "execution_count": 13,
   "metadata": {},
   "outputs": [],
   "source": [
    "def build_df(ticker):\n",
    "    \"\"\"\n",
    "        Build data-frame attaching indexes to historical values\n",
    "\n",
    "        Parameters:\n",
    "        ticker (string): stock ticker to build df\n",
    "\n",
    "        Returns:\n",
    "        Pandas Data-frame: df\n",
    "    \"\"\"\n",
    "    \n",
    "    df = pd.read_csv(f'data/stock-data/{ticker}.SAO.csv')\n",
    "\n",
    "    df[\"timestamp\"] = df[\"timestamp\"].apply(str_to_datetime)\n",
    "    df.index = df.pop(\"timestamp\")\n",
    "\n",
    "    df_reversed = df[::-1]\n",
    "    df_reversed['7_m_average'] = df_reversed['close'].rolling(window=7).mean()\n",
    "    df_reversed['40_m_average'] = df_reversed['close'].rolling(window=40).mean()\n",
    "    df_result = df_reversed[::-1] \n",
    "    df_result = df_result.dropna(subset=['7_m_average', '40_m_average'])\n",
    "\n",
    "    return df_result[::-1]"
   ]
  },
  {
   "cell_type": "code",
   "execution_count": 20,
   "metadata": {},
   "outputs": [],
   "source": [
    "def crossing_averages(row, idx, previous_trend, output_path, ic):\n",
    "    \"\"\"\n",
    "        Checks want move to make given crossing average strategy\n",
    "\n",
    "        Parameters:\n",
    "        row (data-frame row): row from specific day of a data-frame\n",
    "        idx (data-frame row index): index from specific row of a data-frame\n",
    "        previous_trend (int): 1 for up trend and -1 for down trend for the previous day\n",
    "        output_path (string): path of the results sheet\n",
    "        ic (float): initial capital to simulate\n",
    "\n",
    "        Returns:\n",
    "        int: 1 for up trend and -1 for down trend for the current day\n",
    "    \"\"\"\n",
    "\n",
    "    if(row['40_m_average'] >= row['7_m_average']): #sell\n",
    "    \n",
    "        if(previous_trend != -1): #trend_change\n",
    "\n",
    "            output_df = pd.read_csv(output_path)\n",
    "\n",
    "            if(len(output_df) >= 1): #not empty sheet\n",
    "\n",
    "                respective_purchase = output_df.iloc[-1]\n",
    "\n",
    "                price = row['close']\n",
    "\n",
    "                rescued = respective_purchase['n_stock'] * row['close']\n",
    "\n",
    "                write_rows_on_csv(\n",
    "                    output_path, \n",
    "                    [[idx, 'sell', row['close'], rescued, respective_purchase['n_stock'], respective_purchase['remainder']]]\n",
    "                    )\n",
    "\n",
    "                skip_days = 2\n",
    "            \n",
    "                return -1\n",
    "\n",
    "            else: return previous_trend\n",
    "\n",
    "        else: return previous_trend\n",
    "            \n",
    "    else: #buy\n",
    "\n",
    "        if(previous_trend != 1): #trend_change\n",
    "\n",
    "            output_df = pd.read_csv(output_path)\n",
    "\n",
    "            last_sell = output_df.iloc[-1] if(len(output_df) > 1) else 0\n",
    "\n",
    "            capital = ic if(len(output_df) <= 1) else last_sell['invested/rescued'] + last_sell['remainder']\n",
    "\n",
    "            n_stock = capital // row['close']\n",
    "\n",
    "            remainder = capital % row['close']\n",
    "\n",
    "            write_rows_on_csv(\n",
    "                output_path, \n",
    "                [[idx, 'buy', row['close'], capital - remainder, n_stock, remainder]]\n",
    "                )\n",
    "\n",
    "            return 1\n",
    "\n",
    "        else: return previous_trend"
   ]
  },
  {
   "cell_type": "code",
   "execution_count": 11,
   "metadata": {},
   "outputs": [],
   "source": [
    "def simulate(ticker, ic):\n",
    "\n",
    "    df = build_df(ticker)\n",
    "   \n",
    "    previous_trend = 0\n",
    "\n",
    "    skip_days = 0\n",
    "\n",
    "    output_path = (f'results/{ticker}_m_av_sim.csv')\n",
    "\n",
    "    with open(output_path, mode=\"w\", newline=\"\") as file:\n",
    "        writer = csv.writer(file)\n",
    "\n",
    "        # write header\n",
    "        writer.writerow(\n",
    "            ['date', 'move', 'price', 'invested/rescued', 'n_stock', 'remainder']\n",
    "        )\n",
    "\n",
    "    for idx, row in df.iterrows():\n",
    "\n",
    "        if (skip_days > 0):\n",
    "            skip_days -= 1\n",
    "            continue\n",
    "\n",
    "        previous_trend = crossing_averages(row, idx, previous_trend, output_path, ic)"
   ]
  },
  {
   "cell_type": "code",
   "execution_count": 21,
   "metadata": {},
   "outputs": [
    {
     "name": "stderr",
     "output_type": "stream",
     "text": [
      "/tmp/ipykernel_7785/1383793422.py:18: SettingWithCopyWarning: \n",
      "A value is trying to be set on a copy of a slice from a DataFrame.\n",
      "Try using .loc[row_indexer,col_indexer] = value instead\n",
      "\n",
      "See the caveats in the documentation: https://pandas.pydata.org/pandas-docs/stable/user_guide/indexing.html#returning-a-view-versus-a-copy\n",
      "  df_reversed['7_m_average'] = df_reversed['close'].rolling(window=7).mean()\n",
      "/tmp/ipykernel_7785/1383793422.py:19: SettingWithCopyWarning: \n",
      "A value is trying to be set on a copy of a slice from a DataFrame.\n",
      "Try using .loc[row_indexer,col_indexer] = value instead\n",
      "\n",
      "See the caveats in the documentation: https://pandas.pydata.org/pandas-docs/stable/user_guide/indexing.html#returning-a-view-versus-a-copy\n",
      "  df_reversed['40_m_average'] = df_reversed['close'].rolling(window=40).mean()\n"
     ]
    }
   ],
   "source": [
    "simulate('BBAS3', 1000)"
   ]
  },
  {
   "cell_type": "code",
   "execution_count": null,
   "metadata": {},
   "outputs": [],
   "source": [
    "11 % 3"
   ]
  }
 ],
 "metadata": {
  "kernelspec": {
   "display_name": ".venv",
   "language": "python",
   "name": "python3"
  },
  "language_info": {
   "codemirror_mode": {
    "name": "ipython",
    "version": 3
   },
   "file_extension": ".py",
   "mimetype": "text/x-python",
   "name": "python",
   "nbconvert_exporter": "python",
   "pygments_lexer": "ipython3",
   "version": "3.11.5"
  },
  "orig_nbformat": 4
 },
 "nbformat": 4,
 "nbformat_minor": 2
}
