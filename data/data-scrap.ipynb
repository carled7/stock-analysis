{
 "cells": [
  {
   "cell_type": "markdown",
   "metadata": {},
   "source": [
    "#### Imports"
   ]
  },
  {
   "cell_type": "code",
   "execution_count": 2,
   "metadata": {},
   "outputs": [],
   "source": [
    "import requests\n",
    "import csv\n",
    "import os\n",
    "import time\n",
    "\n",
    "import pandas as pd"
   ]
  },
  {
   "cell_type": "code",
   "execution_count": 3,
   "metadata": {},
   "outputs": [],
   "source": [
    "tickers_df = pd.read_csv('TICKERS.csv')\n",
    "\n",
    "key = 'XLSA5LZF5KUUXJX3'\n"
   ]
  },
  {
   "cell_type": "markdown",
   "metadata": {},
   "source": [
    "#### Time series daily"
   ]
  },
  {
   "cell_type": "code",
   "execution_count": 9,
   "metadata": {},
   "outputs": [
    {
     "name": "stdout",
     "output_type": "stream",
     "text": [
      "New .csv downloaded for HOME34.SAO: 200\n"
     ]
    }
   ],
   "source": [
    "counter = 0\n",
    "\n",
    "for index, row in tickers_df.iterrows():\n",
    "\n",
    "    ticker = (f'{row[\"ticker\"]}.SAO')\n",
    "    path = (f'stock-data/{ticker}.csv')\n",
    "\n",
    "    if not os.path.exists(path):\n",
    "        \n",
    "        if counter == 5:\n",
    "            print('waiting...')\n",
    "            time.sleep(70)\n",
    "            counter = 0\n",
    "        \n",
    "        url = (f'https://www.alphavantage.co/query?apikey={key}&function=TIME_SERIES_DAILY&symbol={ticker}&datatype=csv&outputsize=full')\n",
    "\n",
    "        response = requests.get(url)\n",
    "        counter += 1\n",
    "\n",
    "        if response.status_code == 200:\n",
    "            content = response.content.decode()\n",
    "            \n",
    "            reader = csv.reader(content.splitlines(), delimiter=',')\n",
    "            \n",
    "            dataset = list(reader)\n",
    "            \n",
    "            with open(path, mode='w', newline='') as file:\n",
    "                writer = csv.writer(file)\n",
    "                writer.writerows(dataset)\n",
    "                \n",
    "            print(f\"New .csv downloaded for {ticker}: {response.status_code}\")\n",
    "        else:\n",
    "            print(f\"Request failed for {ticker}: {response.status_code}\")"
   ]
  },
  {
   "cell_type": "markdown",
   "metadata": {},
   "source": [
    "### RSI daily"
   ]
  },
  {
   "cell_type": "code",
   "execution_count": 6,
   "metadata": {},
   "outputs": [
    {
     "name": "stdout",
     "output_type": "stream",
     "text": [
      "New .csv downloaded for PETR4.SAO: 200\n",
      "New .csv downloaded for VALE3.SAO: 200\n",
      "New .csv downloaded for ITUB4.SAO: 200\n",
      "New .csv downloaded for BBDC4.SAO: 200\n",
      "New .csv downloaded for B3SA3.SAO: 200\n",
      "waiting...\n",
      "New .csv downloaded for ABEV3.SAO: 200\n",
      "New .csv downloaded for MGLU3.SAO: 200\n",
      "New .csv downloaded for GNDI3.SAO: 200\n",
      "New .csv downloaded for LREN3.SAO: 200\n",
      "New .csv downloaded for WEGE3.SAO: 200\n",
      "waiting...\n"
     ]
    },
    {
     "ename": "KeyboardInterrupt",
     "evalue": "",
     "output_type": "error",
     "traceback": [
      "\u001b[0;31m---------------------------------------------------------------------------\u001b[0m",
      "\u001b[0;31mKeyboardInterrupt\u001b[0m                         Traceback (most recent call last)",
      "Cell \u001b[0;32mIn[6], line 12\u001b[0m\n\u001b[1;32m     10\u001b[0m \u001b[39mif\u001b[39;00m counter \u001b[39m==\u001b[39m \u001b[39m5\u001b[39m:\n\u001b[1;32m     11\u001b[0m     \u001b[39mprint\u001b[39m(\u001b[39m'\u001b[39m\u001b[39mwaiting...\u001b[39m\u001b[39m'\u001b[39m)\n\u001b[0;32m---> 12\u001b[0m     time\u001b[39m.\u001b[39msleep(\u001b[39m70\u001b[39m)\n\u001b[1;32m     13\u001b[0m     counter \u001b[39m=\u001b[39m \u001b[39m0\u001b[39m\n\u001b[1;32m     15\u001b[0m url \u001b[39m=\u001b[39m (\u001b[39mf\u001b[39m\u001b[39m'\u001b[39m\u001b[39mhttps://www.alphavantage.co/query?function=RSI&symbol=\u001b[39m\u001b[39m{\u001b[39;00mticker\u001b[39m}\u001b[39;00m\u001b[39m&interval=daily&time_period=100&series_type=close&apikey=\u001b[39m\u001b[39m{\u001b[39;00mkey\u001b[39m}\u001b[39;00m\u001b[39m&datatype=csv\u001b[39m\u001b[39m'\u001b[39m)\n",
      "\u001b[0;31mKeyboardInterrupt\u001b[0m: "
     ]
    }
   ],
   "source": [
    "counter = 0\n",
    "\n",
    "for index, row in tickers_df.iterrows():\n",
    "\n",
    "    ticker = (f'{row[\"ticker\"]}.SAO')\n",
    "    path = (f'rsi/{ticker}.SAO-RSI.csv')\n",
    "\n",
    "    if not os.path.exists(path):\n",
    "        \n",
    "        if counter == 5:\n",
    "            print('waiting...')\n",
    "            time.sleep(70)\n",
    "            counter = 0\n",
    "        \n",
    "        url = (f'https://www.alphavantage.co/query?function=RSI&symbol={ticker}&interval=daily&time_period=100&series_type=close&apikey={key}&datatype=csv')\n",
    "\n",
    "        response = requests.get(url)\n",
    "        counter += 1\n",
    "\n",
    "        if response.status_code == 200:\n",
    "            content = response.content.decode()\n",
    "            \n",
    "            reader = csv.reader(content.splitlines(), delimiter=',')\n",
    "            \n",
    "            dataset = list(reader)\n",
    "            \n",
    "            with open(path, mode='w', newline='') as file:\n",
    "                writer = csv.writer(file)\n",
    "                writer.writerows(dataset)\n",
    "                \n",
    "            print(f\"New .csv downloaded for {ticker}: {response.status_code}\")\n",
    "        else:\n",
    "            print(f\"Request failed for {ticker}: {response.status_code}\")"
   ]
  }
 ],
 "metadata": {
  "kernelspec": {
   "display_name": ".venv",
   "language": "python",
   "name": "python3"
  },
  "language_info": {
   "codemirror_mode": {
    "name": "ipython",
    "version": 3
   },
   "file_extension": ".py",
   "mimetype": "text/x-python",
   "name": "python",
   "nbconvert_exporter": "python",
   "pygments_lexer": "ipython3",
   "version": "3.11.5"
  },
  "orig_nbformat": 4
 },
 "nbformat": 4,
 "nbformat_minor": 2
}
